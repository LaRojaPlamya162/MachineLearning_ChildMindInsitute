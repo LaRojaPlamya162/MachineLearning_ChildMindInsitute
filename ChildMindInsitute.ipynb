{
 "cells": [
  {
   "cell_type": "markdown",
   "metadata": {},
   "source": [
    "LOAD THƯ VIỆN"
   ]
  },
  {
   "cell_type": "code",
   "execution_count": null,
   "metadata": {
    "vscode": {
     "languageId": "plaintext"
    }
   },
   "outputs": [],
   "source": [
    "import pandas as pd\n",
    "import numpy as np\n",
    "import matplotlib.pyplot as plt\n",
    "import seaborn as sns\n",
    "import os\n",
    "from concurrent.futures import ThreadPoolExecutor\n",
    "from sklearn.experimental import enable_iterative_imputer\n",
    "from sklearn.impute import KNNImputer,IterativeImputer\n",
    "from sklearn.model_selection import StratifiedKFold\n",
    "from sklearn.metrics import cohen_kappa_score\n",
    "from scipy.optimize import minimize\n",
    "import xgboost as xgb\n",
    "from xgboost import XGBRegressor\n",
    "from lightgbm import LGBMRegressor\n",
    "from tqdm import tqdm\n",
    "from sklearn.ensemble import RandomForestRegressor\n",
    "from sklearn.ensemble import VotingRegressor\n",
    "from sklearn.preprocessing import LabelEncoder\n",
    "import plotly.graph_objects as go\n",
    "from IPython.display import display"
   ]
  },
  {
   "cell_type": "markdown",
   "metadata": {},
   "source": [
    "HÀM TIỆN ÍCH"
   ]
  },
  {
   "cell_type": "code",
   "execution_count": null,
   "metadata": {
    "vscode": {
     "languageId": "plaintext"
    }
   },
   "outputs": [],
   "source": [
    "# Map giá trị season thành số\n",
    "def map_season(df):\n",
    "    season_map = {'Missing': 0, 'Spring': 1, 'Summer': 2, 'Fall': 3, 'Winter': 4}\n",
    "    for column in df.columns:\n",
    "        if 'Season' in column:\n",
    "            df[column] = df[column].map(season_map)\n",
    "    return df\n",
    "\n",
    "# Điền missing values bằng KNN Imputer\n",
    "def imputeByKNN(df):\n",
    "    imputer = KNNImputer(n_neighbors=5)\n",
    "    df_imputed = pd.DataFrame(imputer.fit_transform(df), columns=df.columns)\n",
    "    return df_imputed\n",
    "\n",
    "# Load dữ liệu timeseries và tính thống kê\n",
    "def process_file(filename, dirname):\n",
    "    df = pd.read_parquet(os.path.join(dirname, filename, 'part-0.parquet'))\n",
    "    df.drop('step', axis=1, inplace=True)\n",
    "    return df.describe().values.reshape(-1), filename.split('=')[1]\n",
    "\n",
    "def load_time_series(dirname) -> pd.DataFrame:\n",
    "    ids = os.listdir(dirname)\n",
    "    \n",
    "    with ThreadPoolExecutor() as executor:\n",
    "        results = list(tqdm(executor.map(lambda fname: process_file(fname, dirname), ids), total=len(ids)))\n",
    "    \n",
    "    stats, indexes = zip(*results)\n",
    "    \n",
    "    df = pd.DataFrame(stats, columns=[f\"Stat_{i}\" for i in range(len(stats[0]))])\n",
    "    df['id'] = indexes\n",
    "    \n",
    "    return df\n",
    "\n",
    "# Tối ưu ngưỡng dự đoán\n",
    "def map_to_sii(pciat_total, thresholds):\n",
    "    if pciat_total <= thresholds[0]:\n",
    "        return 0\n",
    "    elif pciat_total <= thresholds[1]:\n",
    "        return 1\n",
    "    elif pciat_total <= thresholds[2]:\n",
    "        return 2\n",
    "    else:\n",
    "        return 3\n",
    "\n",
    "def threshold_optimizer(thresholds, y_true, oof_non_rounded):\n",
    "    rounded_predictions = np.array([map_to_sii(pred, thresholds) for pred in oof_non_rounded])\n",
    "    return -cohen_kappa_score(y_true, rounded_predictions, weights='quadratic')\n",
    "\n",
    "# Vẽ biểu đồ về số lượng ô trống trung bình (phần trăm) của từng cột\n",
    "def plot_missing_values(df):\n",
    "    missing_counts = df.isnull().mean() * 100\n",
    "    missing_counts = missing_counts[missing_counts > 0].sort_values(ascending=False)\n",
    "\n",
    "    plt.figure(figsize=(30, 18))\n",
    "    sns.barplot(x=missing_counts.index, y=missing_counts.values)\n",
    "    plt.xticks(rotation=45, ha='right')\n",
    "    plt.title('Phần trăm ô trống trung bình trong từng cột')\n",
    "    plt.ylabel('Phần trăm ô trống (%)')\n",
    "    plt.xlabel('Tên cột')\n",
    "    plt.tight_layout()\n",
    "    plt.show()\n",
    "\n",
    "# Hiển thị bảng thể hiện tương quan với cột \"PCIAT-PCIAT_Total\"\n",
    "def display_correlation_with_target(df, target_column):\n",
    "    correlation_matrix = df.corr()\n",
    "    target_correlation = correlation_matrix[target_column].sort_values(ascending=False)\n",
    "    correlation_df = target_correlation.reset_index()\n",
    "    correlation_df.columns = ['Column', 'Correlation']\n",
    "    print(correlation_df)\n",
    "    return correlation_df\n",
    "\n",
    "# Hàm đổi các cột trong bảng thành numeric\n",
    "def convert_to_numeric(df):\n",
    "    for col in df.columns:\n",
    "        if df[col].dtype == 'object' or df[col].dtype.name == 'category':\n",
    "            df[col], _ = pd.factorize(df[col])\n",
    "    return df"
   ]
  },
  {
   "cell_type": "markdown",
   "metadata": {},
   "source": [
    "LOAD DỮ LIỆU"
   ]
  },
  {
   "cell_type": "code",
   "execution_count": null,
   "metadata": {
    "vscode": {
     "languageId": "plaintext"
    }
   },
   "outputs": [],
   "source": [
    "input_dir = \"/kaggle/input/child-mind-institute-problematic-internet-use\"\n",
    "print(\"Dữ liệu có trong thư mục:\", os.listdir(input_dir))\n",
    "\n",
    "# Load dữ liệu tabular và timeseries\n",
    "print(\"Loading tabular data...\")\n",
    "tabular_train_df = pd.read_csv(input_dir + \"/train.csv\")\n",
    "tabular_test_df_with_id = pd.read_csv(input_dir + \"/test.csv\")\n",
    "data_dict = pd.read_csv(input_dir + \"/data_dictionary.csv\")\n",
    "\n",
    "print(\"Loading timeseries data...\")\n",
    "timeseri_train = load_time_series(input_dir + \"/series_train.parquet\")\n",
    "timeseri_test = load_time_series(input_dir + \"/series_test.parquet\")\n",
    "\n",
    "# Merge tabular với timeseries\n",
    "tabular_train_df = pd.merge(tabular_train_df, timeseri_train, how=\"left\", on='id')\n",
    "tabular_test_df_with_id = pd.merge(tabular_test_df_with_id, timeseri_test, how=\"left\", on='id')\n",
    "\n",
    "# Xóa cột id\n",
    "tabular_train_df = tabular_train_df.drop(columns='id', axis=1)\n",
    "tabular_test_df = tabular_test_df_with_id.drop(columns='id', axis=1)"
   ]
  },
  {
   "cell_type": "markdown",
   "metadata": {},
   "source": [
    "BIỂU ĐỒ"
   ]
  },
  {
   "cell_type": "code",
   "execution_count": null,
   "metadata": {
    "vscode": {
     "languageId": "plaintext"
    }
   },
   "outputs": [],
   "source": [
    "# Phần trăm các ô trống trong từng cột\n",
    "plot_missing_values(tabular_train_df)"
   ]
  },
  {
   "cell_type": "code",
   "execution_count": null,
   "metadata": {
    "vscode": {
     "languageId": "plaintext"
    }
   },
   "outputs": [],
   "source": [
    "train_df = tabular_train_df.copy()\n",
    "train_df = convert_to_numeric(train_df)"
   ]
  },
  {
   "cell_type": "code",
   "execution_count": null,
   "metadata": {
    "vscode": {
     "languageId": "plaintext"
    }
   },
   "outputs": [],
   "source": [
    "# tương quan giữa các cột của bảng train và cột PCIAT-PCIAT_Total\n",
    "display_correlation_with_target(train_df, target_column='PCIAT-PCIAT_Total')"
   ]
  },
  {
   "cell_type": "code",
   "execution_count": null,
   "metadata": {
    "vscode": {
     "languageId": "plaintext"
    }
   },
   "outputs": [],
   "source": [
    "# tương quan giữa các cột của bảng train và cột sii\n",
    "display_correlation_with_target(train_df, target_column='sii')"
   ]
  },
  {
   "cell_type": "code",
   "execution_count": null,
   "metadata": {
    "vscode": {
     "languageId": "plaintext"
    }
   },
   "outputs": [],
   "source": [
    "# bảng train\n",
    "display(tabular_train_df.head(10).style.set_table_styles(\n",
    "    [{'selector': 'thead th', 'props': [('font-size', '12pt'), ('text-align', 'center')]},\n",
    "     {'selector': 'tbody td', 'props': [('font-size', '10pt'), ('text-align', 'center')]}]\n",
    "))"
   ]
  },
  {
   "cell_type": "markdown",
   "metadata": {},
   "source": [
    "PRETRAIN DATA"
   ]
  },
  {
   "cell_type": "code",
   "execution_count": null,
   "metadata": {
    "vscode": {
     "languageId": "plaintext"
    }
   },
   "outputs": [],
   "source": [
    "# Lấy các cột chung giữa tập train và test\n",
    "common_columns = list(set(tabular_train_df.columns) & set(tabular_test_df.columns))\n",
    "\n",
    "# Giữ lại các cột chung và thêm các cột cần thiết trong tập train\n",
    "train_columns = common_columns + ['sii', 'PCIAT-PCIAT_Total']\n",
    "tabular_train_df = tabular_train_df[train_columns]\n",
    "\n",
    "# Chỉ giữ lại các cột chung trong tập test\n",
    "tabular_test_df = tabular_test_df[common_columns]\n",
    "\n",
    "# Loại bỏ các hàng có giá trị NaN ở cột \"sii\"\n",
    "tabular_train_df = tabular_train_df.dropna(subset=['sii'])\n",
    "\n",
    "# Điền missing values cho dữ liệu \"Season\"\n",
    "season_columns = [col for col in tabular_train_df.columns if 'Season' in col]\n",
    "tabular_train_df[season_columns] = tabular_train_df[season_columns].fillna('Missing')\n",
    "tabular_test_df[season_columns] = tabular_test_df[season_columns].fillna('Missing')\n",
    "tabular_train_df = map_season(tabular_train_df)\n",
    "tabular_test_df = map_season(tabular_test_df)\n",
    "\n",
    "# Điền missing values bằng KNN Imputer\n",
    "tabular_train_df = imputeByKNN(tabular_train_df)\n",
    "tabular_test_df = imputeByKNN(tabular_test_df)\n",
    "#tabular_train_df = imputeByIterative(tabular_train_df)\n",
    "#tabular_test_df = imputeByIterative(tabular_test_df)\n",
    "\n",
    "# Tách X (features) và y (target)\n",
    "X_train = tabular_train_df.drop(['sii', 'PCIAT-PCIAT_Total'], axis=1)\n",
    "y_train = tabular_train_df['PCIAT-PCIAT_Total']\n",
    "\n",
    "X_test = tabular_test_df"
   ]
  },
  {
   "cell_type": "markdown",
   "metadata": {},
   "source": [
    "TRAIN MODEL"
   ]
  },
  {
   "cell_type": "code",
   "execution_count": null,
   "metadata": {
    "vscode": {
     "languageId": "plaintext"
    }
   },
   "outputs": [],
   "source": [
    "xgb_params = {\n",
    "    'learning_rate': 0.05,\n",
    "    'max_depth': 6,\n",
    "    'n_estimators': 200,\n",
    "    'subsample': 0.8,\n",
    "    'colsample_bytree': 0.8,\n",
    "    'reg_alpha': 1,\n",
    "    'reg_lambda': 5,\n",
    "    'random_state': 42,\n",
    "    'tree_method': 'exact'\n",
    "}\n",
    "\n",
    "def train_model():\n",
    "    initial_thresholds = [30, 49, 79]  # Các ngưỡng khởi tạo\n",
    "    skf = StratifiedKFold(n_splits=5, shuffle=True, random_state=42)\n",
    "\n",
    "    # Định nghĩa các mô hình thành phần\n",
    "    model_xgb = XGBRegressor(\n",
    "        learning_rate=0.05, max_depth=6, n_estimators=200, subsample=0.8,\n",
    "        colsample_bytree=0.8, reg_alpha=1, reg_lambda=5, random_state=42, tree_method='exact')\n",
    "\n",
    "    model_lgbm = LGBMRegressor(\n",
    "        learning_rate=0.05, max_depth=6, n_estimators=200, subsample=0.8,\n",
    "        colsample_bytree=0.8, reg_alpha=1, reg_lambda=5, random_state=42)\n",
    "\n",
    "    model_rf = RandomForestRegressor(\n",
    "        n_estimators=200, max_depth=6, random_state=42)\n",
    "\n",
    "    # Voting ensemble kết hợp các mô hình trên\n",
    "    voting_model = VotingRegressor(\n",
    "        estimators=[('xgb', model_xgb), ('lgbm', model_lgbm), ('rf', model_rf)])\n",
    "\n",
    "    oof_non_rounded = np.zeros(len(y_train), dtype=float)\n",
    "    test_preds = np.zeros((len(X_test), 5))  # Dự đoán cho test qua từng fold\n",
    "\n",
    "    for fold, (train_idx, val_idx) in enumerate(skf.split(X_train, y_train)):\n",
    "        X_fold_train, X_fold_val = X_train.iloc[train_idx], X_train.iloc[val_idx]\n",
    "        y_fold_train, y_fold_val = y_train.iloc[train_idx], y_train.iloc[val_idx]\n",
    "\n",
    "        voting_model.fit(X_fold_train, y_fold_train)\n",
    "\n",
    "        y_val_predicts = voting_model.predict(X_fold_val)\n",
    "        oof_non_rounded[val_idx] = y_val_predicts\n",
    "        test_preds[:, fold] = voting_model.predict(X_test)\n",
    "\n",
    "        fold_kappa = cohen_kappa_score(y_fold_val, np.round(y_val_predicts), weights='quadratic')\n",
    "        print(f\"Fold {fold + 1} - QWK: {fold_kappa:.4f}\")\n",
    "\n",
    "    # Tối ưu hóa thresholds để đạt QWK cao nhất\n",
    "    kappa_optimizer = minimize(threshold_optimizer, x0=initial_thresholds, args=(y_train, oof_non_rounded), method='Nelder-Mead')\n",
    "    assert kappa_optimizer.success, \"Threshold optimization failed\"\n",
    "\n",
    "    optimized_thresholds = kappa_optimizer.x\n",
    "    print(f\"Optimized thresholds: {optimized_thresholds}\")\n",
    "\n",
    "    # Dự đoán trên tập test\n",
    "    y_pred = test_preds.mean(axis=1)\n",
    "    y_pred_sii = [map_to_sii(pred, optimized_thresholds) for pred in y_pred]\n",
    "\n",
    "    # Tạo submission\n",
    "    submission = pd.DataFrame({\n",
    "        'id': tabular_test_df_with_id['id'],\n",
    "        'sii': y_pred_sii\n",
    "    })\n",
    "    submission.to_csv('submission.csv', index=False)\n",
    "\n",
    "    print(\"\\nTraining and testing complete. Submission saved as 'submission.csv'.\")"
   ]
  },
  {
   "cell_type": "markdown",
   "metadata": {},
   "source": [
    "RUN PREDICTION"
   ]
  },
  {
   "cell_type": "code",
   "execution_count": null,
   "metadata": {
    "vscode": {
     "languageId": "plaintext"
    }
   },
   "outputs": [],
   "source": [
    "train_model()"
   ]
  }
 ],
 "metadata": {
  "language_info": {
   "name": "python"
  }
 },
 "nbformat": 4,
 "nbformat_minor": 2
}
